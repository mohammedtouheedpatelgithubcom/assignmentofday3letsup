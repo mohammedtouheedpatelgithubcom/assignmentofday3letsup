{
 "cells": [
  {
   "cell_type": "markdown",
   "metadata": {},
   "source": [
    "# Questions 1:\n",
    "Create a numpy array starting from 2 till 50 with a stepsize of 3."
   ]
  },
  {
   "cell_type": "code",
   "execution_count": 6,
   "metadata": {},
   "outputs": [
    {
     "name": "stdout",
     "output_type": "stream",
     "text": [
      "[ 2  5  8 11 14 17 20 23 26 29 32 35 38 41 44 47]\n"
     ]
    }
   ],
   "source": [
    "# importing numpy with alias name\n",
    "import numpy as np\n",
    "\n",
    "# creating a array using numpy arange\n",
    "arr = np.arange(2, 50, 3)\n",
    "\n",
    "# printing array\n",
    "print(arr)"
   ]
  },
  {
   "cell_type": "markdown",
   "metadata": {},
   "source": [
    "# Questions 2:\n",
    "Accept two lists of 5 elements each from the user.\n",
    "Convert them to numpy arrays. Concatenate these arrays and print it. Also sort these arrays and print it."
   ]
  },
  {
   "cell_type": "code",
   "execution_count": 8,
   "metadata": {},
   "outputs": [
    {
     "name": "stdout",
     "output_type": "stream",
     "text": [
      "\n",
      "Enter the value for lst_1 : 3\n",
      "\n",
      "Enter the value for lst_1 : 6\n",
      "\n",
      "Enter the value for lst_1 : 7\n",
      "\n",
      "Enter the value for lst_1 : 1\n",
      "\n",
      "Enter the value for lst_1 : 5\n",
      "\n",
      "Enter the value for lst_2 : 2\n",
      "\n",
      "Enter the value for lst_2 : 4\n",
      "\n",
      "Enter the value for lst_2 : 8\n",
      "\n",
      "Enter the value for lst_2 : 9\n",
      "\n",
      "Enter the value for lst_2 : 10\n",
      "\n",
      "Array value for concatenated arr : [ 3  6  7  1  5  2  4  8  9 10]\n",
      "\n",
      "Sorted Array for concatenated arr : [ 1  2  3  4  5  6  7  8  9 10]\n"
     ]
    }
   ],
   "source": [
    "# importing numpy \n",
    "import numpy as np\n",
    "\n",
    "# creating a 2 empty list:\n",
    "lst_1 = []\n",
    "lst_2 = []\n",
    "\n",
    "# getting values for lst_1 from user:\n",
    "for i in range(5):\n",
    "  x=int(input(\"\\nEnter the value for lst_1 : \"))\n",
    "  lst_1.append(x)\n",
    "\n",
    "# getting values for lst_2 from user:\n",
    "for i in range(5):\n",
    "  x=int(input(\"\\nEnter the value for lst_2 : \"))\n",
    "  lst_2.append(x)\n",
    "\n",
    "# converting list into array:\n",
    "arr_1 = np.array(lst_1)\n",
    "arr_2 = np.array(lst_2)\n",
    "\n",
    "# concatenating 2 array:\n",
    "arr = np.concatenate((arr_1, arr_2))\n",
    "print(\"\\nArray value for concatenated arr :\",arr)\n",
    "\n",
    "# sorting up concatenated array\n",
    "sortArr = np.sort(arr)\n",
    "print(\"\\nSorted Array for concatenated arr :\",sortArr)"
   ]
  },
  {
   "cell_type": "markdown",
   "metadata": {},
   "source": [
    "# Questions 3:\n",
    "Write a code snippet to find the dimensions of a ndarray and its size."
   ]
  },
  {
   "cell_type": "code",
   "execution_count": 10,
   "metadata": {},
   "outputs": [
    {
     "name": "stdout",
     "output_type": "stream",
     "text": [
      "\n",
      "Dimensions in array :  2\n",
      "\n",
      "Size of array :  9\n"
     ]
    }
   ],
   "source": [
    "# importing numpy\n",
    "import numpy as np\n",
    "\n",
    "# creating a 2d array\n",
    "arr = np.array([[1,2,3],[1,3,5],[2,3,4]])\n",
    "\n",
    "# Printing array dimensions (axes)\n",
    "print(\"\\nDimensions in array : \", arr.ndim)\n",
    " \n",
    "# Printing size of array\n",
    "print(\"\\nSize of array : \", arr.size)"
   ]
  },
  {
   "cell_type": "markdown",
   "metadata": {},
   "source": [
    "# Questions 4:\n",
    "\n",
    "How to convert a 1D array into a 2D array? Demonstrate with the help of a code snippet\n",
    "Hint: np.newaxis, np.expand_dims"
   ]
  },
  {
   "cell_type": "code",
   "execution_count": 11,
   "metadata": {},
   "outputs": [
    {
     "name": "stdout",
     "output_type": "stream",
     "text": [
      "\n",
      "Shape of Array : (10,)\n",
      "\n",
      "Shape of 2d Array in row major : (1, 10)\n",
      "\n",
      "Shape of 2d Array in column major : (10, 1)\n"
     ]
    }
   ],
   "source": [
    "# importing numpy\n",
    "import numpy as np\n",
    "\n",
    "# creating a 1d array\n",
    "arr = np.arange(10)\n",
    "print(\"\\nShape of Array :\",arr.shape)\n",
    "\n",
    "# converting using newaxis in row wise\n",
    "row_arr = arr[np.newaxis, :]\n",
    "print(\"\\nShape of 2d Array in row major :\",row_arr.shape)\n",
    "\n",
    "# converting using newaxis in column wise\n",
    "col_arr = arr[:, np.newaxis]\n",
    "print(\"\\nShape of 2d Array in column major :\",col_arr.shape)"
   ]
  },
  {
   "cell_type": "markdown",
   "metadata": {},
   "source": [
    "# Questions 5:\n",
    "Consider two square numpy arrays. Stack them vertically and horizontally.\n",
    "Hint: Use vstack(), hstack()"
   ]
  },
  {
   "cell_type": "code",
   "execution_count": 14,
   "metadata": {},
   "outputs": [
    {
     "name": "stdout",
     "output_type": "stream",
     "text": [
      "\n",
      "Horizontal Append : [  1   4  81  49  36  25  16  64   9 100]\n",
      "\n",
      "Vertical Append : [[  1   4  81  49  36]\n",
      " [ 25  16  64   9 100]]\n"
     ]
    }
   ],
   "source": [
    "# importing numpy\n",
    "import numpy as np\n",
    "\n",
    "# creating a array with square values\n",
    "arr_1 = np.square([1, 2, 9, 7, 6])\n",
    "arr_2 = np.square([5, 4, 8, 3, 10])\n",
    "\n",
    "# stacking and printing the value\n",
    "print(\"\\nHorizontal Append :\", np.hstack((arr_1, arr_2)))\n",
    "print(\"\\nVertical Append :\", np.vstack((arr_1, arr_2)))"
   ]
  },
  {
   "cell_type": "markdown",
   "metadata": {},
   "source": [
    "# Questions 6:\n",
    "How to get unique items and counts of unique items?"
   ]
  },
  {
   "cell_type": "code",
   "execution_count": 15,
   "metadata": {},
   "outputs": [
    {
     "name": "stdout",
     "output_type": "stream",
     "text": [
      "[[ 1  3]\n",
      " [ 2  2]\n",
      " [ 3  1]\n",
      " [ 4  3]\n",
      " [ 5  3]\n",
      " [ 6  2]\n",
      " [ 7  2]\n",
      " [ 8  2]\n",
      " [ 9  1]\n",
      " [10  1]\n",
      " [12  1]\n",
      " [13  1]\n",
      " [14  1]\n",
      " [16  1]\n",
      " [25  1]]\n"
     ]
    }
   ],
   "source": [
    "# importing numpy\n",
    "import numpy as np\n",
    "\n",
    "# creating a array \n",
    "arr_1 = np.array([1, 4, 9, 16, 25, 1, 4, 2, 3, 2, 5, 6, 5, 7, 8, 10,12,13,1,4,14,5,6,7,8])\n",
    "\n",
    "# getting unique charater and its count\n",
    "unique, counts = np.unique(arr_1, return_counts=True)\n",
    "\n",
    "# making a \n",
    "arr = np.asarray((unique, counts)).T\n",
    "\n",
    "print(arr)"
   ]
  },
  {
   "cell_type": "code",
   "execution_count": null,
   "metadata": {},
   "outputs": [],
   "source": []
  }
 ],
 "metadata": {
  "kernelspec": {
   "display_name": "Python 3",
   "language": "python",
   "name": "python3"
  },
  "language_info": {
   "codemirror_mode": {
    "name": "ipython",
    "version": 3
   },
   "file_extension": ".py",
   "mimetype": "text/x-python",
   "name": "python",
   "nbconvert_exporter": "python",
   "pygments_lexer": "ipython3",
   "version": "3.7.6"
  }
 },
 "nbformat": 4,
 "nbformat_minor": 4
}
